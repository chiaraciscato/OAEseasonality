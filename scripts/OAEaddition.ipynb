{
 "cells": [
  {
   "cell_type": "code",
   "execution_count": 1,
   "id": "661f0272-c0b9-404c-be85-91cd733d66ad",
   "metadata": {},
   "outputs": [],
   "source": [
    "import netCDF4 as nc\n",
    "from netCDF4 import Dataset\n",
    "import matplotlib as mpl\n",
    "import matplotlib.pyplot as plt\n",
    "import matplotlib.patches as mpatches\n",
    "from matplotlib.patches import Rectangle\n",
    "from matplotlib.legend_handler import HandlerPatch\n",
    "import xarray as xr\n",
    "import numpy as np\n",
    "import pandas as pd\n",
    "import seaborn as sns\n",
    "import seaborn_image as isns\n",
    "import cmasher as cm\n",
    "import warnings"
   ]
  },
  {
   "cell_type": "code",
   "execution_count": 2,
   "id": "0b0a6027-37b8-4dfa-8909-b04a2a6b2f0a",
   "metadata": {},
   "outputs": [],
   "source": [
    "warnings.filterwarnings('ignore')"
   ]
  },
  {
   "cell_type": "code",
   "execution_count": 3,
   "id": "1a7451ac-2bad-4d38-b2e6-5d05326e3c8f",
   "metadata": {},
   "outputs": [],
   "source": [
    "plt.style.use('seaborn-pastel')\n",
    "isns.set_context(mode=\"notebook\", fontfamily=\"MS PMincho\")\n",
    "sns.set_context(font_scale=0.8)"
   ]
  },
  {
   "cell_type": "code",
   "execution_count": 4,
   "id": "f564f0ce-1d8f-43ae-af7b-306cf5e06534",
   "metadata": {},
   "outputs": [],
   "source": [
    "alk_mask = xr.open_dataset('/Volumes/ccHD/OAEdata/variables/masks/alkalinityMask.nc')\n",
    "mesh_mask = xr.open_dataset('/Volumes/ccHD/OAEdata/variables/masks/meshMask.nc')"
   ]
  },
  {
   "cell_type": "code",
   "execution_count": 5,
   "id": "d5bdb542-480a-43db-ae7e-195fce29e82e",
   "metadata": {},
   "outputs": [],
   "source": [
    "mesh_mask = mesh_mask.tmask.isel(t=0, z=0)\n",
    "mask_alkalinity = mesh_mask + alk_mask.alk_flux\n",
    "mesh_mask_region = mask_alkalinity.isel(x=slice(520,595),y=slice(330,435))\n",
    "mesh_mask_study = mask_alkalinity.where((-40 < mask_alkalinity.nav_lon) & (mask_alkalinity.nav_lon < 40) \n",
    "                                                         & (30 < mask_alkalinity.nav_lat) & (mask_alkalinity.nav_lat < 90), drop=True)"
   ]
  },
  {
   "cell_type": "code",
   "execution_count": 13,
   "id": "f6dedd9c-1c4c-4660-95e4-83157e1393ea",
   "metadata": {},
   "outputs": [],
   "source": [
    "mesh_mask_study = mesh_mask_study.where(mesh_mask_study)"
   ]
  },
  {
   "cell_type": "code",
   "execution_count": 28,
   "id": "cf99d7a2-ebdd-4b19-ae10-e6d715b85b73",
   "metadata": {},
   "outputs": [
    {
     "data": {
      "image/png": "[encoded data removed]",
      "text/plain": [
       "<Figure size 700x700 with 1 Axes>"
      ]
     },
     "metadata": {},
     "output_type": "display_data"
    }
   ],
   "source": [
    "fig, ax = plt.subplots(ncols=1, figsize=(7, 7))\n",
    "\n",
    "im = mesh_mask_study.plot.pcolormesh(\n",
    "        ax=ax,\n",
    "        x=\"x\", \n",
    "        y=\"y\",\n",
    "        vmin = 0, \n",
    "        vmax = 4, \n",
    "        cmap=sns.cubehelix_palette(start=.5, rot=-.5, as_cmap=True),\n",
    "        add_colorbar=False, \n",
    "        )\n",
    "\n",
    "y = list(range(0,185))\n",
    "x = list(range(0,160))\n",
    "\n",
    "rect = mpatches.Rectangle((19, 18), 80, 102, linewidth=1, edgecolor='darkgoldenrod', facecolor='none', label=\"Cropped area\")\n",
    "rect = ax.add_patch(rect)\n",
    "\n",
    "ax.set_yticks(np.arange(min(y)+15, max(y), 40))\n",
    "labels_lat = [item.get_text() for item in ax.get_yticklabels()]\n",
    "lat_label = ['35°N', '50°N', '65°N', '70°N', '85°N']\n",
    "ax.set_yticklabels(lat_label, fontsize=10)\n",
    "ax.set_ylabel('Latitude', fontsize=14)\n",
    "\n",
    "ax.set_xticks(np.arange(min(x), max(x),30))\n",
    "labels_lon = [item.get_text() for item in ax.get_xticklabels()]\n",
    "lon_label = ['40°W', '25°W', '10°W', '5°E', '20°E', '35°E']\n",
    "ax.set_xticklabels(lon_label, fontsize=10)\n",
    "ax.set_xlabel('Longitude', fontsize=14)\n",
    "\n",
    "ax.plot(81.2, 62, \"o\", color='chocolate', markersize=4)\n",
    "ax.text(85, 60.5,'point S', fontsize=10, color='black')\n",
    "\n",
    "for location in ['left','bottom', 'right', 'top']:\n",
    "    ax.spines[location].set_linewidth(0.4)\n",
    "\n",
    "pass\n",
    "\n",
    "plt.savefig('/Users/chiaraciscato/Desktop/GEOMAR/OAEseasonality/out/alkalinityAddition.png')"
   ]
  },
  {
   "cell_type": "code",
   "execution_count": null,
   "id": "7a06de06-1326-4a98-9ed6-e83d586107fb",
   "metadata": {},
   "outputs": [],
   "source": []
  }
 ],
 "metadata": {
  "kernelspec": {
   "display_name": "geomar",
   "language": "python",
   "name": "geomar"
  },
  "language_info": {
   "codemirror_mode": {
    "name": "ipython",
    "version": 3
   },
   "file_extension": ".py",
   "mimetype": "text/x-python",
   "name": "python",
   "nbconvert_exporter": "python",
   "pygments_lexer": "ipython3",
   "version": "3.9.18"
  }
 },
 "nbformat": 4,
 "nbformat_minor": 5
}
