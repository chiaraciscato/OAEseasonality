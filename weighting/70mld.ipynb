{
 "cells": [
  {
   "cell_type": "code",
   "execution_count": 1,
   "id": "e467d34f-08cb-4a00-a9cd-4e0bfe055488",
   "metadata": {},
   "outputs": [],
   "source": [
    "import netCDF4 as nc\n",
    "from netCDF4 import Dataset\n",
    "import xarray as xr\n",
    "import time"
   ]
  },
  {
   "cell_type": "code",
   "execution_count": 2,
   "id": "66b0a273-f468-460b-93c9-a32d3513f12c",
   "metadata": {},
   "outputs": [
    {
     "name": "stderr",
     "output_type": "stream",
     "text": [
      "/opt/anaconda3/envs/geomar/lib/python3.7/site-packages/xarray/backends/plugins.py:68: RuntimeWarning: Engine 'rasterio' loading failed:\n",
      "dlopen(/opt/anaconda3/envs/geomar/lib/python3.7/site-packages/rasterio/_base.cpython-37m-darwin.so, 0x0002): Symbol not found: _ZSTD_compressBound\n",
      "  Referenced from: <BFC06822-0FF5-3311-8ECD-FB1AE1C722BC> /opt/anaconda3/envs/geomar/lib/libgdal.30.dylib\n",
      "  Expected in:     <446AECE7-E150-30BD-8CBE-87E9B8DB9C5B> /opt/anaconda3/envs/geomar/lib/libblosc.1.21.5.dylib\n",
      "  warnings.warn(f\"Engine {name!r} loading failed:\\n{ex}\", RuntimeWarning)\n"
     ]
    }
   ],
   "source": [
    "mesh_mask = xr.open_dataset('/Volumes/Untitled/Cropped_DataTransfer/masks/meshMask.nc')"
   ]
  },
  {
   "cell_type": "code",
   "execution_count": 3,
   "id": "dc463ae2-5f49-446f-bc7a-720a9246c859",
   "metadata": {},
   "outputs": [],
   "source": [
    "mask = xr.open_dataset('/Volumes/Untitled/Cropped_DataTransfer/masks/tmask.nc')"
   ]
  },
  {
   "cell_type": "code",
   "execution_count": 4,
   "id": "2d0a1135-98e9-43b1-b895-8dd08ef07999",
   "metadata": {},
   "outputs": [],
   "source": [
    "# calculate volume for each grid cell\n",
    "\n",
    "dx = mesh_mask.e1t \n",
    "dy = mesh_mask.e2t\n",
    "grid_cell_area = dx * dy # m2"
   ]
  },
  {
   "cell_type": "code",
   "execution_count": 5,
   "id": "dc469106-6f9b-4a55-8afb-9dbab36b03a1",
   "metadata": {},
   "outputs": [],
   "source": [
    "gridded_mesh = grid_cell_area.isel(t=0)"
   ]
  },
  {
   "cell_type": "code",
   "execution_count": 6,
   "id": "44da322a-9ee2-4e3c-8292-8b58ea0b6f8a",
   "metadata": {},
   "outputs": [],
   "source": [
    "# apply mask to weighted grid cells\n",
    "\n",
    "ocean_area = gridded_mesh * mask"
   ]
  },
  {
   "cell_type": "code",
   "execution_count": 7,
   "id": "5fe9b7cd-05ba-4807-9853-470253a05771",
   "metadata": {},
   "outputs": [],
   "source": [
    "# slice the european area\n",
    "\n",
    "ocean_area_sliced = ocean_area.sel(x=slice(520,595),y=slice(330,435),z=0,time=0)"
   ]
  },
  {
   "cell_type": "code",
   "execution_count": 8,
   "id": "8f3e8169-2e0e-42e1-9a3d-afad1a6918e9",
   "metadata": {},
   "outputs": [],
   "source": [
    "# slice location S\n",
    "\n",
    "ocean_area_sliced_dp = ocean_area_sliced.isel(x=slice(58,60),y=slice(41,43))"
   ]
  },
  {
   "cell_type": "code",
   "execution_count": 9,
   "id": "120f9244-dcde-4eae-b760-417187b9254a",
   "metadata": {},
   "outputs": [],
   "source": [
    "mld_base = xr.open_dataset('/Volumes/Untitled/Cropped_DataTransfer/46dData/mldBase70.nc')\n",
    "mld_oae = xr.open_dataset('/Volumes/Untitled/Cropped_DataTransfer/46dData/mldOAE70.nc')"
   ]
  },
  {
   "cell_type": "code",
   "execution_count": 10,
   "id": "da554f1f-60e4-486b-8354-ba129a7e32fd",
   "metadata": {},
   "outputs": [],
   "source": [
    "alk_base = xr.open_dataset('/Volumes/Untitled/Cropped_DataTransfer/46dData/alkBase70.nc')\n",
    "alk_oae = xr.open_dataset('/Volumes/Untitled/Cropped_DataTransfer/46dData/alkOAE70.nc')"
   ]
  },
  {
   "cell_type": "code",
   "execution_count": 11,
   "id": "9b2f6e2f-54df-409c-bbbf-dc9961190b13",
   "metadata": {},
   "outputs": [],
   "source": [
    "dic_base = xr.open_dataset('/Volumes/Untitled/Cropped_DataTransfer/46dData/dicBase70.nc')\n",
    "dic_oae = xr.open_dataset('/Volumes/Untitled/Cropped_DataTransfer/46dData/dicOAE70.nc')"
   ]
  },
  {
   "cell_type": "code",
   "execution_count": 12,
   "id": "30f800b8-1779-424a-a916-98f8d168c205",
   "metadata": {},
   "outputs": [],
   "source": [
    "datasets = [alk_base, mld_base, alk_oae, mld_oae, dic_base, dic_oae]"
   ]
  },
  {
   "cell_type": "code",
   "execution_count": 13,
   "id": "90db0e2d-7a66-4bc9-9082-87b51f4b1fe1",
   "metadata": {},
   "outputs": [],
   "source": [
    "data_new = []\n",
    "\n",
    "for x in datasets:\n",
    "    x = x.sel(time_counter=slice('2090','2100'))\n",
    "    data_new.append(x)"
   ]
  },
  {
   "cell_type": "code",
   "execution_count": 14,
   "id": "ceb3547b-c148-4286-aab2-43145831c9b2",
   "metadata": {},
   "outputs": [],
   "source": [
    "alk_base = data_new[0]\n",
    "mld_base = data_new[1]\n",
    "alk_oae = data_new[2]\n",
    "mld_oae = data_new[3]\n",
    "dic_base = data_new[4]\n",
    "dic_oae = data_new[5]"
   ]
  },
  {
   "cell_type": "code",
   "execution_count": 15,
   "id": "005c3f10-267f-4c17-a375-baac37fe58d8",
   "metadata": {},
   "outputs": [],
   "source": [
    "def slicing_alk(variable, mld):\n",
    "    layers_alk = []\n",
    "    mld_bool = (variable.deptht < mld.somxl010).to_dataset(name='mld') \n",
    "    variable = variable * mld_bool.mld\n",
    "    variable = variable.where(variable)\n",
    "    variable = variable.fillna(0)\n",
    "    variable = variable * 1.025   # potential seawater density\n",
    "    for x in list((range(len(variable.deptht)))):\n",
    "        if x == 0:\n",
    "            n_variable = variable.ALK.isel(deptht=x) * variable.deptht[x] \n",
    "            layers_alk.append(n_variable)\n",
    "        else:\n",
    "            n_variable = variable.ALK.isel(deptht=x) * (variable.deptht[x] - variable.deptht[x-1])\n",
    "            layers_alk.append(n_variable)\n",
    "    weighted_var = sum(layers_alk) / mld.somxl010\n",
    "    weighted_var = weighted_var.to_dataset(name='ALK')\n",
    "    return(weighted_var)"
   ]
  },
  {
   "cell_type": "code",
   "execution_count": 16,
   "id": "e0190e15-19b9-4578-b037-9d98e78f4580",
   "metadata": {},
   "outputs": [],
   "source": [
    "def slicing_dic(variable, mld):\n",
    "    layers_dic = []\n",
    "    mld_bool = (variable.deptht < mld.somxl010).to_dataset(name='mld') \n",
    "    variable = variable * mld_bool.mld\n",
    "    variable = variable.where(variable)\n",
    "    variable = variable.fillna(0)\n",
    "    variable = variable * 1.025   # potential seawater density\n",
    "    for x in list((range(len(variable.deptht)))):\n",
    "        if x == 0:\n",
    "            n_variable = variable.DIC.isel(deptht=x) * variable.deptht[x] \n",
    "            layers_dic.append(n_variable)\n",
    "        else:\n",
    "            n_variable = variable.DIC.isel(deptht=x) * (variable.deptht[x] - variable.deptht[x-1])\n",
    "            layers_dic.append(n_variable)\n",
    "    weighted_var = sum(layers_dic) / mld.somxl010\n",
    "    weighted_var = weighted_var.to_dataset(name='DIC')\n",
    "    return(weighted_var)"
   ]
  },
  {
   "cell_type": "code",
   "execution_count": 17,
   "id": "c1ea3649-ddef-43db-8a2f-25dd742c9159",
   "metadata": {},
   "outputs": [
    {
     "name": "stdout",
     "output_type": "stream",
     "text": [
      "CPU times: user 3 µs, sys: 1 µs, total: 4 µs\n",
      "Wall time: 8.11 µs\n"
     ]
    }
   ],
   "source": [
    "%time\n",
    "\n",
    "alk_base_weighted = slicing_alk(alk_base, mld_base)\n",
    "alk_oae_weighted = slicing_alk(alk_oae, mld_oae)\n",
    "dic_base_weighted = slicing_dic(dic_base, mld_base)\n",
    "dic_oae_weighted = slicing_dic(dic_oae, mld_oae)"
   ]
  },
  {
   "cell_type": "code",
   "execution_count": 18,
   "id": "2b9576a1-5db7-4456-bf70-b17f7045eeed",
   "metadata": {},
   "outputs": [],
   "source": [
    "datasets = [alk_base_weighted.ALK, alk_oae_weighted.ALK, dic_base_weighted.DIC, dic_oae_weighted.DIC]\n",
    "var_new = []\n",
    "\n",
    "for x in datasets:\n",
    "    sliced_x = x * ocean_area_sliced  # baseline\n",
    "    regridded_x = sliced_x.sum(['x', 'y']) / ocean_area_sliced.sum(['x', 'y'])\n",
    "    var_new.append(regridded_x)"
   ]
  },
  {
   "cell_type": "code",
   "execution_count": 19,
   "id": "caf6f275-e6ed-4b37-9b92-b545167be119",
   "metadata": {},
   "outputs": [],
   "source": [
    "alk_base_regridded = var_new[0].tmask.rename(\"ALK\")\n",
    "alk_oae_regridded = var_new[1].tmask.rename(\"ALK\")\n",
    "dic_base_regridded = var_new[2].tmask.rename(\"DIC\")\n",
    "dic_oae_regridded = var_new[3].tmask.rename(\"DIC\")"
   ]
  },
  {
   "cell_type": "code",
   "execution_count": 20,
   "id": "46297588-680e-4661-9c08-ddd6b063716e",
   "metadata": {},
   "outputs": [],
   "source": [
    "location_datasets = [alk_base.ALK, alk_oae.ALK, dic_base.DIC, dic_oae.DIC, mld_base.somxl010, mld_oae.somxl010]"
   ]
  },
  {
   "cell_type": "code",
   "execution_count": 21,
   "id": "1b1dd96e-0b77-4b18-9eae-af5911bde290",
   "metadata": {},
   "outputs": [],
   "source": [
    "location_regrid = []\n",
    "\n",
    "for x in location_datasets:\n",
    "    x = x.isel(x=slice(58,60),y=slice(41,43))\n",
    "    location_regrid.append(x)"
   ]
  },
  {
   "cell_type": "code",
   "execution_count": 22,
   "id": "8b8711f2-fdc0-496e-986d-3a057454ecf3",
   "metadata": {},
   "outputs": [],
   "source": [
    "alk_base_dp = location_regrid[0].to_dataset(name='ALK')\n",
    "alk_oae_dp = location_regrid[1].to_dataset(name='ALK')\n",
    "dic_base_dp = location_regrid[2].to_dataset(name='DIC')\n",
    "dic_oae_dp = location_regrid[3].to_dataset(name='DIC')\n",
    "mld_base = location_regrid[4].to_dataset(name='somxl010')\n",
    "mld_oae = location_regrid[5].to_dataset(name='somxl010')"
   ]
  },
  {
   "cell_type": "code",
   "execution_count": 23,
   "id": "552e26fe-af2e-4701-a278-43fa88e31505",
   "metadata": {},
   "outputs": [
    {
     "name": "stdout",
     "output_type": "stream",
     "text": [
      "CPU times: user 2 µs, sys: 0 ns, total: 2 µs\n",
      "Wall time: 8.11 µs\n"
     ]
    }
   ],
   "source": [
    "%time\n",
    "\n",
    "alk_base_weighted_dp = slicing_alk(alk_base_dp, mld_base)\n",
    "alk_oae_weighted_dp = slicing_alk(alk_oae_dp, mld_oae)\n",
    "dic_base_weighted_dp = slicing_dic(dic_base_dp, mld_base)\n",
    "dic_oae_weighted_dp = slicing_dic(dic_oae_dp, mld_oae)"
   ]
  },
  {
   "cell_type": "code",
   "execution_count": 24,
   "id": "dcdbbce5-0a23-45b6-b102-5a053e394092",
   "metadata": {},
   "outputs": [],
   "source": [
    "datasets_location = [alk_base_weighted_dp.ALK, alk_oae_weighted_dp.ALK, dic_base_weighted_dp.DIC, dic_oae_weighted_dp.DIC]\n",
    "var_new_location = []\n",
    "\n",
    "for x in datasets_location:\n",
    "    sliced_x = x * ocean_area_sliced_dp  # baseline\n",
    "    regridded_x = sliced_x.sum(['x', 'y']) / ocean_area_sliced_dp.sum(['x', 'y'])\n",
    "    var_new_location.append(regridded_x)"
   ]
  },
  {
   "cell_type": "code",
   "execution_count": 25,
   "id": "e6eef68f-63e3-48b0-bdda-b8c2e2649caf",
   "metadata": {},
   "outputs": [],
   "source": [
    "regridded_alk_base_dp = var_new_location[0].tmask.rename(\"ALK\")\n",
    "regridded_alk_oae_dp = var_new_location[1].tmask.rename(\"ALK\")\n",
    "dic_base_regridded_dp = var_new_location[2].tmask.rename(\"DIC\")\n",
    "dic_oae_regridded_dp = var_new_location[3].tmask.rename(\"DIC\")"
   ]
  },
  {
   "cell_type": "code",
   "execution_count": 26,
   "id": "0a0d8cd3-ec23-427b-9d58-35484cbf8ae4",
   "metadata": {
    "tags": []
   },
   "outputs": [],
   "source": [
    "# alk_base_weighted.to_netcdf('/Users/chiaraciscato/Desktop/geomar/OAEseasonality/weighting/ssp3-7.0/alkBaseLineplot.nc')\n",
    "# alk_oae_weighted.to_netcdf('/Users/chiaraciscato/Desktop/geomar/OAEseasonality/weighting/ssp3-7.0/alkOAELineplot.nc')\n",
    "# dic_base_weighted.to_netcdf('/Users/chiaraciscato/Desktop/geomar/OAEseasonality/weighting/ssp3-7.0/dicBaseLineplot.nc')\n",
    "# dic_oae_weighted.to_netcdf('/Users/chiaraciscato/Desktop/geomar/OAEseasonality/weighting/ssp3-7.0/dicOAELineplot.nc')"
   ]
  },
  {
   "cell_type": "code",
   "execution_count": 27,
   "id": "17462762-b26b-4be9-a71c-e6e32563dca1",
   "metadata": {},
   "outputs": [],
   "source": [
    "# alk_base_regridded.to_netcdf('/Users/chiaraciscato/Desktop/geomar/OAEseasonality/weighting/ssp3-7.0/alkBaseMap.nc')\n",
    "# alk_oae_regridded.to_netcdf('/Users/chiaraciscato/Desktop/geomar/OAEseasonality/weighting/ssp3-7.0/alkOAEMap.nc')\n",
    "# dic_base_regridded.to_netcdf('/Users/chiaraciscato/Desktop/geomar/OAEseasonality/weighting/ssp3-7.0/dicBaseMap.nc')\n",
    "# dic_oae_regridded.to_netcdf('/Users/chiaraciscato/Desktop/geomar/OAEseasonality/weighting/ssp3-7.0/diOAEMap.nc')"
   ]
  },
  {
   "cell_type": "code",
   "execution_count": 28,
   "id": "9de4e64d-8d3f-4887-ac7b-a4538457052a",
   "metadata": {},
   "outputs": [],
   "source": [
    "# alk_base_regridded.to_netcdf('/Users/chiaraciscato/Desktop/geomar/OAEseasonality/weighting/ssp3-7.0/alkBaseMapS.nc')\n",
    "# alk_oae_regridded.to_netcdf('/Users/chiaraciscato/Desktop/geomar/OAEseasonality/weighting/ssp3-7.0/alkOAEMapS.nc')\n",
    "# dic_base_regridded.to_netcdf('/Users/chiaraciscato/Desktop/geomar/OAEseasonality/weighting/ssp3-7.0/dicBaseMapS.nc')\n",
    "# dic_oae_regridded.to_netcdf('/Users/chiaraciscato/Desktop/geomar/OAEseasonality/weighting/ssp3-7.0/diOAEMapS.nc')"
   ]
  }
 ],
 "metadata": {
  "kernelspec": {
   "display_name": "geomar",
   "language": "python",
   "name": "geomar"
  },
  "language_info": {
   "codemirror_mode": {
    "name": "ipython",
    "version": 3
   },
   "file_extension": ".py",
   "mimetype": "text/x-python",
   "name": "python",
   "nbconvert_exporter": "python",
   "pygments_lexer": "ipython3",
   "version": "3.7.12"
  }
 },
 "nbformat": 4,
 "nbformat_minor": 5
}
