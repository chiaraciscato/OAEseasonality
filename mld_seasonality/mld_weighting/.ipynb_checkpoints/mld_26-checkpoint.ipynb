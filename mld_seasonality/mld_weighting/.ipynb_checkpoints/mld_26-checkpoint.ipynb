{
 "cells": [
  {
   "cell_type": "code",
   "execution_count": 1,
   "id": "e467d34f-08cb-4a00-a9cd-4e0bfe055488",
   "metadata": {},
   "outputs": [],
   "source": [
    "import netCDF4 as nc\n",
    "from netCDF4 import Dataset\n",
    "import matplotlib as mpl\n",
    "import matplotlib.pyplot as plt\n",
    "import matplotlib.patches as mpatches\n",
    "from matplotlib.legend_handler import HandlerPatch\n",
    "import xarray as xr\n",
    "import numpy as np\n",
    "import pandas as pd\n",
    "import calendar\n",
    "import seaborn as sns\n",
    "import seaborn_image as isns"
   ]
  },
  {
   "cell_type": "code",
   "execution_count": 2,
   "id": "66b0a273-f468-460b-93c9-a32d3513f12c",
   "metadata": {},
   "outputs": [],
   "source": [
    "mesh_mask = xr.open_dataset('/Volumes/UnionSine/Cropped_DataTransfer/masks/mesh_mask.nc')"
   ]
  },
  {
   "cell_type": "code",
   "execution_count": 3,
   "id": "dc463ae2-5f49-446f-bc7a-720a9246c859",
   "metadata": {},
   "outputs": [],
   "source": [
    "mask = xr.open_dataset('/Volumes/UnionSine/Cropped_DataTransfer/masks/tmaskm.nc')"
   ]
  },
  {
   "cell_type": "code",
   "execution_count": 4,
   "id": "2d0a1135-98e9-43b1-b895-8dd08ef07999",
   "metadata": {},
   "outputs": [],
   "source": [
    "# calculate volume for each grid cell\n",
    "\n",
    "dx = mesh_mask.e1t \n",
    "dy = mesh_mask.e2t\n",
    "grid_cell_area = dx * dy # m2"
   ]
  },
  {
   "cell_type": "code",
   "execution_count": 5,
   "id": "dc469106-6f9b-4a55-8afb-9dbab36b03a1",
   "metadata": {},
   "outputs": [],
   "source": [
    "gridded_mesh = grid_cell_area.isel(t=0)"
   ]
  },
  {
   "cell_type": "code",
   "execution_count": 6,
   "id": "44da322a-9ee2-4e3c-8292-8b58ea0b6f8a",
   "metadata": {},
   "outputs": [],
   "source": [
    "# apply mask to weighted grid cells\n",
    "\n",
    "ocean_area = gridded_mesh * mask"
   ]
  },
  {
   "cell_type": "code",
   "execution_count": 7,
   "id": "5fe9b7cd-05ba-4807-9853-470253a05771",
   "metadata": {},
   "outputs": [],
   "source": [
    "ocean_area_sliced = ocean_area.sel(x=slice(520,595),y=slice(330,435),z=0,time=0)"
   ]
  },
  {
   "cell_type": "code",
   "execution_count": 8,
   "id": "8f3e8169-2e0e-42e1-9a3d-afad1a6918e9",
   "metadata": {},
   "outputs": [],
   "source": [
    "ocean_area_sliced_dp = ocean_area_sliced.isel(x=slice(58,60),y=slice(41,43))"
   ]
  },
  {
   "cell_type": "markdown",
   "id": "6343d1fd-114f-41bc-bb1b-cb890cd3d018",
   "metadata": {},
   "source": [
    "# European average"
   ]
  },
  {
   "cell_type": "markdown",
   "id": "4fca4e0e-b888-49cc-bb80-1d9e2dc90188",
   "metadata": {},
   "source": [
    "### Alkalinity baseline"
   ]
  },
  {
   "cell_type": "code",
   "execution_count": 9,
   "id": "f61a937c-0b9a-4dd9-ba2c-f67e53cf21cb",
   "metadata": {},
   "outputs": [],
   "source": [
    "alk_weighted_baseline = xr.open_dataset('/Volumes/UnionSine/Cropped_DataTransfer/alkalinity_base_26.nc', decode_times=True)\n",
    "mld_baseline = xr.open_dataset('/Volumes/UnionSine/Cropped_DataTransfer/mld_base_26.nc')"
   ]
  },
  {
   "cell_type": "code",
   "execution_count": 10,
   "id": "074797cd-2b12-43fe-9642-b0eb670a4707",
   "metadata": {},
   "outputs": [],
   "source": [
    "alk_weighted_baseline = alk_weighted_baseline.sel(time_counter=slice('2090','2100'))"
   ]
  },
  {
   "cell_type": "code",
   "execution_count": 11,
   "id": "7baa4920-db8b-4057-a687-6ea145c97d52",
   "metadata": {},
   "outputs": [],
   "source": [
    "mld_baseline = mld_baseline.sel(time_counter=slice('2090','2100'))"
   ]
  },
  {
   "cell_type": "code",
   "execution_count": 12,
   "id": "303eb532-d6bd-4eb4-a562-790f51d9b51c",
   "metadata": {},
   "outputs": [],
   "source": [
    "mld = alk_weighted_baseline.deptht < mld_baseline.somxl010"
   ]
  },
  {
   "cell_type": "code",
   "execution_count": 13,
   "id": "6947a4fe-1be0-4420-86a6-29a07e9effc0",
   "metadata": {},
   "outputs": [],
   "source": [
    "mld = mld.to_dataset(name='mld') "
   ]
  },
  {
   "cell_type": "code",
   "execution_count": 14,
   "id": "88a7a24b-e4e4-4504-80b0-b1430761d3c3",
   "metadata": {},
   "outputs": [],
   "source": [
    "alk_base = alk_weighted_baseline * mld.mld"
   ]
  },
  {
   "cell_type": "code",
   "execution_count": 15,
   "id": "6fbb99f2-352e-4f48-8de8-ba5c64adf788",
   "metadata": {},
   "outputs": [],
   "source": [
    "alk_base = alk_base.where(alk_base)"
   ]
  },
  {
   "cell_type": "code",
   "execution_count": 16,
   "id": "3693ad56-afea-4ca2-aa72-cb3aae24d354",
   "metadata": {},
   "outputs": [],
   "source": [
    "alk_base = alk_base.fillna(0)"
   ]
  },
  {
   "cell_type": "code",
   "execution_count": 17,
   "id": "63d96183-1718-4577-ae65-b46b101d1b2b",
   "metadata": {},
   "outputs": [],
   "source": [
    "alk_base = alk_base * 1.025 # mmol/m3"
   ]
  },
  {
   "cell_type": "code",
   "execution_count": 18,
   "id": "453b6561-34df-46d4-83ab-2cae6c034b6e",
   "metadata": {},
   "outputs": [],
   "source": [
    "# iterate over all layers and append\n",
    "\n",
    "alk_base_layers = []\n",
    "\n",
    "for x in list((range(len(alk_base.deptht)))):\n",
    "    if x == 0:\n",
    "        alk_n_base = alk_base.ALK.isel(deptht=x) * alk_base.deptht[x] \n",
    "        alk_base_layers.append(alk_n_base)\n",
    "    else:\n",
    "        alk_n_base = alk_base.ALK.isel(deptht=x) * (alk_base.deptht[x] - alk_base.deptht[x-1])\n",
    "        alk_base_layers.append(alk_n_base)"
   ]
  },
  {
   "cell_type": "code",
   "execution_count": 19,
   "id": "d03a7400-8ce0-4ab8-a098-f083a11c9e0e",
   "metadata": {},
   "outputs": [],
   "source": [
    "weighted_base_alk = sum(alk_base_layers) / mld_baseline.somxl010 # mmol/m3 * m / m"
   ]
  },
  {
   "cell_type": "code",
   "execution_count": 20,
   "id": "699a2e92-26a2-45b6-9040-7b56de84bd00",
   "metadata": {},
   "outputs": [],
   "source": [
    "weighted_base_alk = weighted_base_alk.to_dataset(name='ALK')"
   ]
  },
  {
   "cell_type": "code",
   "execution_count": 21,
   "id": "b988fca3-28b1-44b4-bd05-c68d492415ea",
   "metadata": {},
   "outputs": [],
   "source": [
    "weighted_base_alk.to_netcdf('/Volumes/UnionSine/Cropped_DataTransfer/SSP1_2.6/Alkalinity/mld_alk/weighted_base_alk.nc')"
   ]
  },
  {
   "cell_type": "code",
   "execution_count": 22,
   "id": "d7543026-207b-4b3b-b2e9-250c1b53c5cd",
   "metadata": {},
   "outputs": [],
   "source": [
    "sliced_alk_baseline = weighted_base_alk.ALK * ocean_area_sliced  # baseline"
   ]
  },
  {
   "cell_type": "code",
   "execution_count": 23,
   "id": "cc6bd228-f0ef-4d76-81e9-f949e3ba0370",
   "metadata": {},
   "outputs": [],
   "source": [
    "regridded_alk_base = sliced_alk_baseline.sum(['x', 'y']) / ocean_area_sliced.sum(['x', 'y'])"
   ]
  },
  {
   "cell_type": "code",
   "execution_count": 24,
   "id": "b93f257c-f9ca-4407-8b95-3fefc9a497d2",
   "metadata": {},
   "outputs": [],
   "source": [
    "regridded_alk_base = regridded_alk_base.tmask.rename(\"ALK\")"
   ]
  },
  {
   "cell_type": "code",
   "execution_count": 25,
   "id": "99ec2821-a8c7-4286-adea-2323d5eb3cb1",
   "metadata": {},
   "outputs": [],
   "source": [
    "regridded_alk_base.to_netcdf('/Volumes/UnionSine/Cropped_DataTransfer/SSP1_2.6/Alkalinity/mld_alk/regridded_alk_base.nc')"
   ]
  },
  {
   "cell_type": "markdown",
   "id": "3db85d7e-713e-4adf-8084-9e76c1b42c5c",
   "metadata": {},
   "source": [
    "### Alkalinity OAE"
   ]
  },
  {
   "cell_type": "code",
   "execution_count": 26,
   "id": "286ada83-9996-49ba-9c7e-f22957dce4f2",
   "metadata": {},
   "outputs": [],
   "source": [
    "alk_weighted_oae = xr.open_dataset('/Volumes/UnionSine/Cropped_DataTransfer/alkalinity_oae_26.nc')\n",
    "mld_oae = xr.open_dataset('/Volumes/UnionSine/Cropped_DataTransfer/mld_oae_26.nc')"
   ]
  },
  {
   "cell_type": "code",
   "execution_count": 27,
   "id": "d8b774d1-97f2-4d4d-909e-146c55f3fa5e",
   "metadata": {},
   "outputs": [],
   "source": [
    "alk_weighted_oae = alk_weighted_oae.sel(time_counter=slice('2090','2100'))"
   ]
  },
  {
   "cell_type": "code",
   "execution_count": 28,
   "id": "426bffb2-61ec-478d-a5cf-d268f93db07a",
   "metadata": {},
   "outputs": [],
   "source": [
    "mld_oae = mld_oae.sel(time_counter=slice('2090','2100'))"
   ]
  },
  {
   "cell_type": "code",
   "execution_count": 29,
   "id": "6ea37f7b-dad9-45d8-b30b-21e59d5e1d5d",
   "metadata": {},
   "outputs": [],
   "source": [
    "mld = alk_weighted_oae.deptht < mld_oae.somxl010"
   ]
  },
  {
   "cell_type": "code",
   "execution_count": 30,
   "id": "93b2a96e-2ace-448b-8535-337bc3a862b5",
   "metadata": {},
   "outputs": [],
   "source": [
    "mld = mld.to_dataset(name='mld') "
   ]
  },
  {
   "cell_type": "code",
   "execution_count": 31,
   "id": "61e70ceb-e0b6-4ffd-b804-7d126088df20",
   "metadata": {},
   "outputs": [],
   "source": [
    "alk_oae = alk_weighted_oae * mld.mld"
   ]
  },
  {
   "cell_type": "code",
   "execution_count": 32,
   "id": "e00de88d-e24f-41d4-9d18-4dc783d4e99f",
   "metadata": {},
   "outputs": [],
   "source": [
    "alk_oae = alk_oae.where(alk_oae)"
   ]
  },
  {
   "cell_type": "code",
   "execution_count": 33,
   "id": "f48c6d4d-5890-47f6-bef9-548bf5084ca7",
   "metadata": {},
   "outputs": [],
   "source": [
    "alk_oae = alk_oae.fillna(0)"
   ]
  },
  {
   "cell_type": "code",
   "execution_count": 34,
   "id": "36319c21-c0b8-424d-bede-0f46221a73da",
   "metadata": {},
   "outputs": [],
   "source": [
    "alk_oae = alk_oae * 1.025 # mmol/m3"
   ]
  },
  {
   "cell_type": "code",
   "execution_count": 35,
   "id": "0afd4dbb-4853-46b3-a81f-5849fde02bef",
   "metadata": {},
   "outputs": [],
   "source": [
    "# iterate over all layers and append\n",
    "\n",
    "alk_oae_layers = []\n",
    "\n",
    "for x in list((range(len(alk_oae.deptht)))):\n",
    "    if x == 0:\n",
    "        alk_n_oae = alk_oae.ALK.isel(deptht=x) * alk_oae.deptht[x] \n",
    "        alk_oae_layers.append(alk_n_oae)\n",
    "    else:\n",
    "        alk_n_oae = alk_oae.ALK.isel(deptht=x) * (alk_oae.deptht[x] - alk_oae.deptht[x-1])\n",
    "        alk_oae_layers.append(alk_n_oae)"
   ]
  },
  {
   "cell_type": "code",
   "execution_count": 36,
   "id": "b00aede8-cfdb-41f6-bff1-42e3ac6d8420",
   "metadata": {},
   "outputs": [],
   "source": [
    "weighted_oae_alk = sum(alk_oae_layers) / mld_oae.somxl010 # mmol/m3 * m / m"
   ]
  },
  {
   "cell_type": "code",
   "execution_count": 37,
   "id": "84003bd7-fcd8-496c-bfd7-7ef831916cf7",
   "metadata": {},
   "outputs": [],
   "source": [
    "weighted_oae_alk = weighted_oae_alk.to_dataset(name='ALK')"
   ]
  },
  {
   "cell_type": "code",
   "execution_count": 38,
   "id": "027848e8-d7fa-4036-9fd6-893e2f0241d5",
   "metadata": {},
   "outputs": [],
   "source": [
    "weighted_oae_alk.to_netcdf('/Volumes/UnionSine/Cropped_DataTransfer/SSP1_2.6/Alkalinity/mld_alk/weighted_oae_alk.nc')"
   ]
  },
  {
   "cell_type": "code",
   "execution_count": 39,
   "id": "918a2549-0636-4bdb-abfe-79b7c2af7d40",
   "metadata": {},
   "outputs": [],
   "source": [
    "sliced_alk_oae = ocean_area_sliced * weighted_oae_alk.ALK # baseline"
   ]
  },
  {
   "cell_type": "code",
   "execution_count": 40,
   "id": "80c2778a-b051-448c-8874-72b0d968f357",
   "metadata": {},
   "outputs": [],
   "source": [
    "regridded_alk_oae = sliced_alk_oae.sum(['x', 'y']) / ocean_area_sliced.sum(['x', 'y'])"
   ]
  },
  {
   "cell_type": "code",
   "execution_count": 41,
   "id": "98019047-635a-43a5-89e2-8404d3b699d4",
   "metadata": {},
   "outputs": [],
   "source": [
    "regridded_alk_oae = regridded_alk_oae.tmask.rename(\"ALK\")"
   ]
  },
  {
   "cell_type": "code",
   "execution_count": 42,
   "id": "47e1121c-54aa-4026-b50a-797df42a46e2",
   "metadata": {},
   "outputs": [],
   "source": [
    "regridded_alk_oae.to_netcdf('/Volumes/UnionSine/Cropped_DataTransfer/SSP1_2.6/Alkalinity/mld_alk/regridded_alk_oae.nc')"
   ]
  },
  {
   "cell_type": "markdown",
   "id": "4ef69eaf-8f87-4c5e-ba40-dbdbbee02925",
   "metadata": {},
   "source": [
    "### DIC baseline"
   ]
  },
  {
   "cell_type": "code",
   "execution_count": 43,
   "id": "5aa5690e-a497-4712-a6c4-f1546b24f2e2",
   "metadata": {},
   "outputs": [],
   "source": [
    "dic_weighted_baseline = xr.open_dataset('/Volumes/UnionSine/Cropped_DataTransfer/dic_base_26.nc')\n",
    "mld_baseline = xr.open_dataset('/Volumes/UnionSine/Cropped_DataTransfer/mld_base_26.nc')"
   ]
  },
  {
   "cell_type": "code",
   "execution_count": 44,
   "id": "1753e2a0-1699-4682-8ff5-f953366ad5d4",
   "metadata": {},
   "outputs": [],
   "source": [
    "dic_weighted_baseline = dic_weighted_baseline.sel(time_counter=slice('2090','2100'))"
   ]
  },
  {
   "cell_type": "code",
   "execution_count": 45,
   "id": "e028850d-94aa-45ae-85d5-731059e0b878",
   "metadata": {},
   "outputs": [],
   "source": [
    "mld_baseline = mld_baseline.sel(time_counter=slice('2090','2100'))"
   ]
  },
  {
   "cell_type": "code",
   "execution_count": 46,
   "id": "5142121a-9c92-4bdc-80c2-b360cc008410",
   "metadata": {},
   "outputs": [],
   "source": [
    "mld = dic_weighted_baseline.deptht < mld_baseline.somxl010"
   ]
  },
  {
   "cell_type": "code",
   "execution_count": 47,
   "id": "55c84724-a68c-46a9-ad6b-cc495b9b6aab",
   "metadata": {},
   "outputs": [],
   "source": [
    "mld = mld.to_dataset(name='mld') "
   ]
  },
  {
   "cell_type": "code",
   "execution_count": 48,
   "id": "045b66bd-a0ac-4e99-bb40-7dd3b93d291b",
   "metadata": {},
   "outputs": [],
   "source": [
    "dic_base = dic_weighted_baseline * mld.mld"
   ]
  },
  {
   "cell_type": "code",
   "execution_count": 49,
   "id": "5bd56ad4-6569-4018-8697-8f00d495ec95",
   "metadata": {},
   "outputs": [],
   "source": [
    "dic_base = dic_base.where(dic_base)"
   ]
  },
  {
   "cell_type": "code",
   "execution_count": 50,
   "id": "3c54c526-d2b5-4fc0-b1d6-821cf12059c8",
   "metadata": {},
   "outputs": [],
   "source": [
    "dic_base = dic_base.fillna(0)"
   ]
  },
  {
   "cell_type": "code",
   "execution_count": 51,
   "id": "e600cf6c-8520-47b0-9390-6aba4ecfb003",
   "metadata": {},
   "outputs": [],
   "source": [
    "dic_base = dic_base * 1.025 # mmol/m3"
   ]
  },
  {
   "cell_type": "code",
   "execution_count": 52,
   "id": "099b6dbe-7fc5-487a-9ecd-2a01dc04a9f0",
   "metadata": {},
   "outputs": [],
   "source": [
    "# iterate over all layers and append\n",
    "\n",
    "dic_base_layers = []\n",
    "\n",
    "for x in list((range(len(dic_base.deptht)))):\n",
    "    if x == 0:\n",
    "        dic_n_base = dic_base.DIC.isel(deptht=x) * dic_base.deptht[x] \n",
    "        dic_base_layers.append(dic_n_base)\n",
    "    else:\n",
    "        dic_n_base = dic_base.DIC.isel(deptht=x) * (dic_base.deptht[x] - dic_base.deptht[x-1])\n",
    "        dic_base_layers.append(dic_n_base)"
   ]
  },
  {
   "cell_type": "code",
   "execution_count": 53,
   "id": "0914f78d-beb4-4576-a4dc-80cb64855d82",
   "metadata": {},
   "outputs": [],
   "source": [
    "weighted_base_dic = sum(dic_base_layers) / mld_baseline.somxl010 # mmol/m3 * m / m"
   ]
  },
  {
   "cell_type": "code",
   "execution_count": 54,
   "id": "73d440a4-1bc1-4c46-8461-24b1c870532a",
   "metadata": {},
   "outputs": [],
   "source": [
    "weighted_base_dic = weighted_base_dic.to_dataset(name='DIC')"
   ]
  },
  {
   "cell_type": "code",
   "execution_count": 55,
   "id": "a09a3086-1369-44ac-8f4d-6e6e30ef83a5",
   "metadata": {},
   "outputs": [],
   "source": [
    "weighted_base_dic.to_netcdf('/Volumes/UnionSine/Cropped_DataTransfer/SSP1_2.6/DIC/dic_mld//weighted_base_dic_2.6.nc')"
   ]
  },
  {
   "cell_type": "code",
   "execution_count": 56,
   "id": "3309967f-2e79-4cc4-9e9f-9d6453cc1d98",
   "metadata": {},
   "outputs": [],
   "source": [
    "sliced_dic_baseline = ocean_area_sliced * weighted_base_dic.DIC # baseline"
   ]
  },
  {
   "cell_type": "code",
   "execution_count": 57,
   "id": "302ad656-9568-4c29-92d6-817b848bc916",
   "metadata": {},
   "outputs": [],
   "source": [
    "regridded_dic_base = sliced_dic_baseline.sum(['x', 'y']) / ocean_area_sliced.sum(['x', 'y'])"
   ]
  },
  {
   "cell_type": "code",
   "execution_count": 58,
   "id": "386fd444-44b1-4677-9c00-9bb22bd5ba76",
   "metadata": {},
   "outputs": [],
   "source": [
    "regridded_dic_base = regridded_dic_base.tmask.rename(\"DIC\")"
   ]
  },
  {
   "cell_type": "code",
   "execution_count": 59,
   "id": "25d58f2a-665b-499f-b668-c0658a3de3c6",
   "metadata": {},
   "outputs": [],
   "source": [
    "regridded_dic_base.to_netcdf('/Volumes/UnionSine/Cropped_DataTransfer/SSP1_2.6/DIC/dic_mld/regridded_dic_base_2.6.nc')"
   ]
  },
  {
   "cell_type": "markdown",
   "id": "39c97fc1-2225-4021-b8a1-5a2ba5717bc4",
   "metadata": {},
   "source": [
    "### DIC OAE"
   ]
  },
  {
   "cell_type": "code",
   "execution_count": 60,
   "id": "c824615a-dd8c-4b55-96a3-b96cb0b13d7e",
   "metadata": {},
   "outputs": [],
   "source": [
    "mld_oae = xr.open_dataset('/Volumes/UnionSine/Cropped_DataTransfer/mld_oae_26.nc')"
   ]
  },
  {
   "cell_type": "code",
   "execution_count": 61,
   "id": "70694963-fad7-459c-a41d-29b2a040b90b",
   "metadata": {},
   "outputs": [],
   "source": [
    "dic_weighted_oae = xr.open_dataset('/Volumes/UnionSine/Cropped_DataTransfer/dic_oae_26.nc', decode_times=True)"
   ]
  },
  {
   "cell_type": "code",
   "execution_count": 62,
   "id": "8a86c70b-48b2-4fcd-bebb-bcb784987ac7",
   "metadata": {},
   "outputs": [],
   "source": [
    "dic_weighted_oae = dic_weighted_oae.sel(time_counter=slice('2090','2100'))"
   ]
  },
  {
   "cell_type": "code",
   "execution_count": 63,
   "id": "d02012b3-5632-482b-afdb-8b3f73852688",
   "metadata": {},
   "outputs": [],
   "source": [
    "mld_oae = mld_oae.sel(time_counter=slice('2090','2100'))"
   ]
  },
  {
   "cell_type": "code",
   "execution_count": 64,
   "id": "9fb0afe3-b95b-47be-a553-b9ee6c17a1d8",
   "metadata": {},
   "outputs": [],
   "source": [
    "mld = dic_weighted_oae.deptht < mld_oae.somxl010"
   ]
  },
  {
   "cell_type": "code",
   "execution_count": 65,
   "id": "19a4fdf0-11ea-46e6-a167-9c999e07201e",
   "metadata": {},
   "outputs": [],
   "source": [
    "mld = mld.to_dataset(name='mld') "
   ]
  },
  {
   "cell_type": "code",
   "execution_count": 66,
   "id": "c35fedcf-3ecf-4ba7-b646-6c95097465b4",
   "metadata": {},
   "outputs": [],
   "source": [
    "dic_oae = dic_weighted_oae * mld.mld"
   ]
  },
  {
   "cell_type": "code",
   "execution_count": 67,
   "id": "bae26529-48e2-4831-ab63-5b5e64056e8b",
   "metadata": {},
   "outputs": [],
   "source": [
    "dic_oae = dic_oae.where(dic_oae)"
   ]
  },
  {
   "cell_type": "code",
   "execution_count": 68,
   "id": "12d37b7a-1ad9-496e-86b0-ae93a56d30cf",
   "metadata": {},
   "outputs": [],
   "source": [
    "dic_oae = dic_oae.fillna(0)"
   ]
  },
  {
   "cell_type": "code",
   "execution_count": 69,
   "id": "25cd5915-6134-4036-938f-b2e7507555d4",
   "metadata": {},
   "outputs": [],
   "source": [
    "dic_oae = dic_oae * 1.025 # mmol/m3"
   ]
  },
  {
   "cell_type": "code",
   "execution_count": 70,
   "id": "8fe221c6-a4cb-4dd3-9b07-e28813362f06",
   "metadata": {},
   "outputs": [],
   "source": [
    "# iterate over all layers and append\n",
    "\n",
    "dic_oae_layers = []\n",
    "\n",
    "for x in list((range(len(dic_oae.deptht)))):\n",
    "    if x == 0:\n",
    "        dic_n_oae = dic_oae.DIC.isel(deptht=x) * dic_oae.deptht[x] \n",
    "        dic_oae_layers.append(dic_n_oae)\n",
    "    else:\n",
    "        dic_n_oae = dic_oae.DIC.isel(deptht=x) * (dic_oae.deptht[x] - dic_oae.deptht[x-1])\n",
    "        dic_oae_layers.append(dic_n_oae)"
   ]
  },
  {
   "cell_type": "code",
   "execution_count": 71,
   "id": "e07b18ca-6363-4117-ac4a-788637d110af",
   "metadata": {},
   "outputs": [],
   "source": [
    "weighted_oae_dic = sum(dic_oae_layers) / mld_oae.somxl010 # mmol/m3 * m / m"
   ]
  },
  {
   "cell_type": "code",
   "execution_count": 72,
   "id": "9e762c4b-a6da-47b6-bb68-987afbb7a4ef",
   "metadata": {},
   "outputs": [],
   "source": [
    "weighted_oae_dic = weighted_oae_dic.to_dataset(name='DIC')"
   ]
  },
  {
   "cell_type": "code",
   "execution_count": 73,
   "id": "197b1b14-13b0-4710-8658-7fa5d9800ebc",
   "metadata": {},
   "outputs": [],
   "source": [
    "weighted_oae_dic.to_netcdf('/Volumes/UnionSine/Cropped_DataTransfer/SSP1_2.6/DIC/dic_mld//weighted_oae_dic_2.6.nc')"
   ]
  },
  {
   "cell_type": "code",
   "execution_count": 74,
   "id": "8f3d8b36-7b7a-46c3-b497-6cc4b83d0079",
   "metadata": {},
   "outputs": [],
   "source": [
    "sliced_dic_oae = ocean_area_sliced * weighted_oae_dic.DIC # baseline"
   ]
  },
  {
   "cell_type": "code",
   "execution_count": 75,
   "id": "9148a5d3-ec33-4174-be8b-5fea440dfbfb",
   "metadata": {},
   "outputs": [],
   "source": [
    "regridded_dic_oae = sliced_dic_oae.sum(['x', 'y']) / ocean_area_sliced.sum(['x', 'y'])"
   ]
  },
  {
   "cell_type": "code",
   "execution_count": 76,
   "id": "1641becd-51df-4984-990d-34c300031baa",
   "metadata": {},
   "outputs": [],
   "source": [
    "regridded_dic_oae = regridded_dic_oae.tmask.rename(\"DIC\")"
   ]
  },
  {
   "cell_type": "code",
   "execution_count": 77,
   "id": "67dbc9b6-65e8-40ab-98a2-63516f8caa33",
   "metadata": {},
   "outputs": [],
   "source": [
    "regridded_dic_oae.to_netcdf('/Volumes/UnionSine/Cropped_DataTransfer/SSP1_2.6/DIC/dic_mld//regridded_dic_oae_2.6.nc')"
   ]
  },
  {
   "cell_type": "markdown",
   "id": "680c3c0b-1742-41e5-9856-faa0649069e2",
   "metadata": {},
   "source": [
    "# Average at Location S "
   ]
  },
  {
   "cell_type": "markdown",
   "id": "7650aca5-fa06-4548-a999-9551c9eea123",
   "metadata": {},
   "source": [
    "### Alkalinity baseline"
   ]
  },
  {
   "cell_type": "code",
   "execution_count": 78,
   "id": "bff89e99-f4b2-4e72-8bfb-bfe8954e4d7d",
   "metadata": {},
   "outputs": [],
   "source": [
    "alk_weighted_baseline_dp = alk_weighted_baseline.ALK.isel(x=slice(58,60),y=slice(41,43))"
   ]
  },
  {
   "cell_type": "code",
   "execution_count": 79,
   "id": "9772397f-7666-4a07-a1de-279e145af2f6",
   "metadata": {},
   "outputs": [],
   "source": [
    "mld_baseline_dp = mld_baseline.somxl010.isel(x=slice(58,60),y=slice(41,43))"
   ]
  },
  {
   "cell_type": "code",
   "execution_count": 80,
   "id": "193b6e50-3db9-405f-9120-f493ba894322",
   "metadata": {},
   "outputs": [],
   "source": [
    "alk_weighted_baseline_dp = alk_weighted_baseline_dp.to_dataset(name='ALK')"
   ]
  },
  {
   "cell_type": "code",
   "execution_count": 81,
   "id": "1c71ce3f-8a2d-4a98-9703-dfc302d7f984",
   "metadata": {},
   "outputs": [],
   "source": [
    "mld_baseline_dp = mld_baseline_dp.to_dataset(name='mld')"
   ]
  },
  {
   "cell_type": "code",
   "execution_count": 82,
   "id": "f2f6a7f6-e933-48db-b631-6c2967547ad1",
   "metadata": {},
   "outputs": [],
   "source": [
    "mld_dp = alk_weighted_baseline_dp.deptht < mld_baseline_dp.mld"
   ]
  },
  {
   "cell_type": "code",
   "execution_count": 83,
   "id": "8236bd9e-0430-445c-aadf-d96d53bc1eb6",
   "metadata": {},
   "outputs": [],
   "source": [
    "mld_dp = mld_dp.to_dataset(name='mld') "
   ]
  },
  {
   "cell_type": "code",
   "execution_count": 84,
   "id": "c88925e1-5aec-40b2-ae14-36f0c7ac1411",
   "metadata": {},
   "outputs": [],
   "source": [
    "alk_base_dp = alk_weighted_baseline_dp * mld_dp.mld"
   ]
  },
  {
   "cell_type": "code",
   "execution_count": 85,
   "id": "711636c3-8e6b-45be-842d-877a024ca549",
   "metadata": {},
   "outputs": [],
   "source": [
    "alk_base_dp = alk_base_dp.where(alk_base_dp)"
   ]
  },
  {
   "cell_type": "code",
   "execution_count": 86,
   "id": "e386f782-ad76-41e4-9aa5-42bf9567d3e2",
   "metadata": {},
   "outputs": [],
   "source": [
    "alk_base_dp = alk_base_dp.fillna(0)"
   ]
  },
  {
   "cell_type": "code",
   "execution_count": 87,
   "id": "93a085c2-87b2-4c5f-bd70-981098441d34",
   "metadata": {},
   "outputs": [],
   "source": [
    "alk_base_dp = alk_base_dp * 1.025 # mmol/m3"
   ]
  },
  {
   "cell_type": "code",
   "execution_count": 88,
   "id": "4e077018-1a67-446b-a04d-dfa67a159d82",
   "metadata": {},
   "outputs": [],
   "source": [
    "# iterate over all layers and append\n",
    "\n",
    "alk_base_layers_dp = []\n",
    "\n",
    "for x in list((range(len(alk_base_dp.deptht)))):\n",
    "    if x == 0:\n",
    "        alk_n_base_dp = alk_base_dp.ALK.isel(deptht=x) * alk_base_dp.deptht[x] \n",
    "        alk_base_layers_dp.append(alk_n_base_dp)\n",
    "    else:\n",
    "        alk_n_base_dp = alk_base_dp.ALK.isel(deptht=x) * (alk_base_dp.deptht[x] - alk_base_dp.deptht[x-1])\n",
    "        alk_base_layers_dp.append(alk_n_base_dp)"
   ]
  },
  {
   "cell_type": "code",
   "execution_count": 89,
   "id": "423fc663-4a08-4da4-9193-d0c267a797cc",
   "metadata": {},
   "outputs": [],
   "source": [
    "weighted_base_alk_dp = sum(alk_base_layers_dp) / mld_baseline_dp.mld # mmol/m3 * m / m"
   ]
  },
  {
   "cell_type": "code",
   "execution_count": 90,
   "id": "7343838d-ca20-477c-8cc3-76b5886a47c2",
   "metadata": {},
   "outputs": [],
   "source": [
    "weighted_base_alk_dp = weighted_base_alk_dp.to_dataset(name='ALK')"
   ]
  },
  {
   "cell_type": "code",
   "execution_count": 91,
   "id": "40751826-0a76-475a-9cde-36c179b195ea",
   "metadata": {},
   "outputs": [],
   "source": [
    "sliced_alk_baseline_dp = ocean_area_sliced_dp * weighted_base_alk_dp.ALK # baseline"
   ]
  },
  {
   "cell_type": "code",
   "execution_count": 92,
   "id": "53c3d5d8-7c64-44fb-a2fc-282bd0b330ad",
   "metadata": {},
   "outputs": [],
   "source": [
    "regridded_alk_base_dp = sliced_alk_baseline_dp.sum(['x', 'y']) / ocean_area_sliced_dp.sum(['x', 'y'])"
   ]
  },
  {
   "cell_type": "code",
   "execution_count": 93,
   "id": "f66eab30-fe7a-42e0-908e-326ae07960b5",
   "metadata": {},
   "outputs": [],
   "source": [
    "regridded_alk_base_dp = regridded_alk_base_dp.tmask.rename(\"ALK\")"
   ]
  },
  {
   "cell_type": "code",
   "execution_count": 94,
   "id": "eab4d812-8e77-41e6-9684-54cc3643f56f",
   "metadata": {},
   "outputs": [],
   "source": [
    "regridded_alk_base_dp.to_netcdf('/Volumes/UnionSine/Cropped_DataTransfer/SSP1_2.6/Alkalinity/mld_alk/regridded_alk_base_dp.nc')"
   ]
  },
  {
   "cell_type": "markdown",
   "id": "2026128e-c294-46f2-96bc-c154d208083f",
   "metadata": {},
   "source": [
    "### Alkalinity OAE"
   ]
  },
  {
   "cell_type": "code",
   "execution_count": 95,
   "id": "9d7f92d8-dc10-4db4-892c-0a960f08a6dc",
   "metadata": {},
   "outputs": [],
   "source": [
    "alk_weighted_oae_dp = alk_weighted_oae.ALK.isel(x=slice(58,60),y=slice(41,43))"
   ]
  },
  {
   "cell_type": "code",
   "execution_count": 96,
   "id": "9b7fa4ef-a3c4-48c0-b5e7-152815f22e8b",
   "metadata": {},
   "outputs": [],
   "source": [
    "mld_oae_dp = mld_oae.somxl010.isel(x=slice(58,60),y=slice(41,43))"
   ]
  },
  {
   "cell_type": "code",
   "execution_count": 97,
   "id": "a796e99e-b649-4d0f-b356-78244c595e26",
   "metadata": {},
   "outputs": [],
   "source": [
    "alk_weighted_oae_dp = alk_weighted_oae_dp.to_dataset(name='ALK')"
   ]
  },
  {
   "cell_type": "code",
   "execution_count": 98,
   "id": "bc2379e5-b6e0-4f33-b5ff-02b75e29ee38",
   "metadata": {},
   "outputs": [],
   "source": [
    "mld_oae_dp = mld_oae_dp.to_dataset(name='mld')"
   ]
  },
  {
   "cell_type": "code",
   "execution_count": 99,
   "id": "2adb7deb-a89b-4a02-91f3-4f25b5d4d284",
   "metadata": {},
   "outputs": [],
   "source": [
    "mld_dp = alk_weighted_oae_dp.deptht < mld_oae_dp.mld"
   ]
  },
  {
   "cell_type": "code",
   "execution_count": 100,
   "id": "25221c47-568b-4cfe-88a5-738f750ee009",
   "metadata": {},
   "outputs": [],
   "source": [
    "mld_dp = mld_dp.to_dataset(name='mld') "
   ]
  },
  {
   "cell_type": "code",
   "execution_count": 101,
   "id": "cbaf1668-9d2b-4c42-8aff-6b932037491b",
   "metadata": {},
   "outputs": [],
   "source": [
    "alk_oae_dp = alk_weighted_oae_dp * mld_dp.mld"
   ]
  },
  {
   "cell_type": "code",
   "execution_count": 102,
   "id": "a12d2181-6335-473b-a7e6-0615dfcf3eea",
   "metadata": {},
   "outputs": [],
   "source": [
    "alk_oae_dp = alk_oae_dp.where(alk_oae_dp)"
   ]
  },
  {
   "cell_type": "code",
   "execution_count": 103,
   "id": "e439c341-e495-4627-9098-a89893bd5628",
   "metadata": {},
   "outputs": [],
   "source": [
    "alk_oae_dp = alk_oae_dp.fillna(0)"
   ]
  },
  {
   "cell_type": "code",
   "execution_count": 104,
   "id": "3fcc440d-70aa-4571-8cbf-61fd0e987e47",
   "metadata": {},
   "outputs": [],
   "source": [
    "alk_oae_dp = alk_oae_dp * 1.025 # mmol/m3"
   ]
  },
  {
   "cell_type": "code",
   "execution_count": 105,
   "id": "8fc63180-6aec-4fd0-9ea7-a8504d9bb5ad",
   "metadata": {},
   "outputs": [],
   "source": [
    "# iterate over all layers and append\n",
    "\n",
    "alk_oae_layers_dp = []\n",
    "\n",
    "for x in list((range(len(alk_oae_dp.deptht)))):\n",
    "    if x == 0:\n",
    "        alk_n_oae_dp = alk_oae_dp.ALK.isel(deptht=x) * alk_oae_dp.deptht[x] \n",
    "        alk_oae_layers_dp.append(alk_n_oae_dp)\n",
    "    else:\n",
    "        alk_n_oae_dp = alk_oae_dp.ALK.isel(deptht=x) * (alk_oae_dp.deptht[x] - alk_oae_dp.deptht[x-1])\n",
    "        alk_oae_layers_dp.append(alk_n_oae_dp)"
   ]
  },
  {
   "cell_type": "code",
   "execution_count": 106,
   "id": "7e3cb21e-9633-47ef-ac19-77d00240af0c",
   "metadata": {},
   "outputs": [],
   "source": [
    "weighted_oae_alk_dp = sum(alk_oae_layers_dp) / mld_oae_dp.mld # mmol/m3 * m / m"
   ]
  },
  {
   "cell_type": "code",
   "execution_count": 107,
   "id": "d4a4cbb7-fe0f-459f-b720-d60075574fda",
   "metadata": {},
   "outputs": [],
   "source": [
    "weighted_oae_alk_dp = weighted_oae_alk_dp.to_dataset(name='ALK')"
   ]
  },
  {
   "cell_type": "code",
   "execution_count": 108,
   "id": "8b967274-1a59-4f73-a63b-a17a7e0ae700",
   "metadata": {},
   "outputs": [],
   "source": [
    "sliced_alk_oae_dp = ocean_area_sliced_dp * weighted_oae_alk_dp.ALK # baseline"
   ]
  },
  {
   "cell_type": "code",
   "execution_count": 109,
   "id": "9115abdc-8993-4ea5-ac5e-4622d0a8049f",
   "metadata": {},
   "outputs": [],
   "source": [
    "regridded_alk_oae_dp = sliced_alk_oae_dp.sum(['x', 'y']) / ocean_area_sliced_dp.sum(['x', 'y'])"
   ]
  },
  {
   "cell_type": "code",
   "execution_count": 110,
   "id": "a296e5d4-3ee3-4c05-bd1b-01213000e4d6",
   "metadata": {},
   "outputs": [],
   "source": [
    "regridded_alk_oae_dp = regridded_alk_oae_dp.tmask.rename(\"ALK\")"
   ]
  },
  {
   "cell_type": "code",
   "execution_count": 111,
   "id": "f2e24d2d-435c-4996-b778-3457b65a9e28",
   "metadata": {},
   "outputs": [],
   "source": [
    "regridded_alk_oae_dp.to_netcdf('/Volumes/UnionSine/Cropped_DataTransfer/SSP1_2.6/Alkalinity/mld_alk/regridded_alk_oae_dp.nc')"
   ]
  },
  {
   "cell_type": "markdown",
   "id": "0c5fc0a9-8746-4b2d-a5c9-669272d0c06c",
   "metadata": {},
   "source": [
    "### DIC baseline"
   ]
  },
  {
   "cell_type": "code",
   "execution_count": 112,
   "id": "92f32134-28ce-49e0-86f0-4f9677c4a164",
   "metadata": {},
   "outputs": [],
   "source": [
    "dic_weighted_baseline_dp = dic_weighted_baseline.DIC.isel(x=slice(58,60),y=slice(41,43))"
   ]
  },
  {
   "cell_type": "code",
   "execution_count": 116,
   "id": "d4b1d229-537e-48f5-b1d7-727c9453760c",
   "metadata": {},
   "outputs": [],
   "source": [
    "mld_baseline_dp = mld_baseline.somxl010.isel(x=slice(58,60),y=slice(41,43))"
   ]
  },
  {
   "cell_type": "code",
   "execution_count": 117,
   "id": "042f6226-640a-4b6f-a912-8ef53835d87b",
   "metadata": {},
   "outputs": [],
   "source": [
    "dic_weighted_baseline_dp = dic_weighted_baseline_dp.to_dataset(name='DIC')"
   ]
  },
  {
   "cell_type": "code",
   "execution_count": 118,
   "id": "a9126fce-478c-4148-acf5-ecb07bc9fb55",
   "metadata": {},
   "outputs": [],
   "source": [
    "mld_baseline_dp = mld_baseline_dp.to_dataset(name='mld')"
   ]
  },
  {
   "cell_type": "code",
   "execution_count": 119,
   "id": "93a9e39f-e970-4b08-8253-9b6779097330",
   "metadata": {},
   "outputs": [],
   "source": [
    "mld_dp = dic_weighted_baseline_dp.deptht < mld_baseline_dp.mld"
   ]
  },
  {
   "cell_type": "code",
   "execution_count": 120,
   "id": "90626d45-f0ac-4f84-adf1-3a53ff2cdf6b",
   "metadata": {},
   "outputs": [],
   "source": [
    "mld_dp = mld_dp.to_dataset(name='mld') "
   ]
  },
  {
   "cell_type": "code",
   "execution_count": 121,
   "id": "7e73bf01-674a-42c5-bc20-cef980596ab0",
   "metadata": {},
   "outputs": [],
   "source": [
    "dic_base_dp = dic_weighted_baseline_dp * mld_dp.mld"
   ]
  },
  {
   "cell_type": "code",
   "execution_count": 122,
   "id": "1b8d1f66-1379-48c6-abf0-3fa88fa8586c",
   "metadata": {},
   "outputs": [],
   "source": [
    "dic_base_dp = dic_base_dp.where(dic_base_dp)"
   ]
  },
  {
   "cell_type": "code",
   "execution_count": 123,
   "id": "bc7413df-e4eb-4ba3-b94f-d78c6cfc2a16",
   "metadata": {},
   "outputs": [],
   "source": [
    "dic_base_dp = dic_base_dp.fillna(0)"
   ]
  },
  {
   "cell_type": "code",
   "execution_count": 124,
   "id": "e4a1b99a-4c0e-48ba-ae8f-a4a3d4f61cd1",
   "metadata": {},
   "outputs": [],
   "source": [
    "dic_base_dp = dic_base_dp * 1.025 # mmol/m3"
   ]
  },
  {
   "cell_type": "code",
   "execution_count": 125,
   "id": "4136ba4b-2c41-4775-99f8-f024c2956df9",
   "metadata": {},
   "outputs": [],
   "source": [
    "# iterate over all layers and append\n",
    "\n",
    "dic_base_layers_dp = []\n",
    "\n",
    "for x in list((range(len(dic_base_dp.deptht)))):\n",
    "    if x == 0:\n",
    "        dic_n_base_dp = dic_base_dp.DIC.isel(deptht=x) * dic_base_dp.deptht[x] \n",
    "        dic_base_layers_dp.append(dic_n_base_dp)\n",
    "    else:\n",
    "        dic_n_base_dp = dic_base_dp.DIC.isel(deptht=x) * (dic_base_dp.deptht[x] - dic_base_dp.deptht[x-1])\n",
    "        dic_base_layers_dp.append(dic_n_base_dp)"
   ]
  },
  {
   "cell_type": "code",
   "execution_count": 126,
   "id": "8177d24b-9ba2-47bb-8430-20c160f48f60",
   "metadata": {},
   "outputs": [],
   "source": [
    "weighted_base_dic_dp = sum(dic_base_layers_dp) / mld_baseline_dp.mld # mmol/m3 * m / m"
   ]
  },
  {
   "cell_type": "code",
   "execution_count": 127,
   "id": "c5814803-3085-482b-8fff-1855516809fb",
   "metadata": {},
   "outputs": [],
   "source": [
    "weighted_base_dic_dp = weighted_base_dic_dp.to_dataset(name='DIC')"
   ]
  },
  {
   "cell_type": "code",
   "execution_count": 128,
   "id": "349d8eb6-4dc8-4e5b-a6b3-c8a743d9a4d1",
   "metadata": {},
   "outputs": [],
   "source": [
    "sliced_dic_baseline_dp = ocean_area_sliced_dp * weighted_base_dic_dp.DIC # baseline"
   ]
  },
  {
   "cell_type": "code",
   "execution_count": 129,
   "id": "c4ba07fb-f025-45ee-a62b-8bd46c81d596",
   "metadata": {},
   "outputs": [],
   "source": [
    "regridded_dic_base_dp = sliced_dic_baseline_dp.sum(['x', 'y']) / ocean_area_sliced_dp.sum(['x', 'y'])"
   ]
  },
  {
   "cell_type": "code",
   "execution_count": 130,
   "id": "0f8486e5-42be-423f-bcee-f793d3a6a319",
   "metadata": {},
   "outputs": [],
   "source": [
    "regridded_dic_base_dp = regridded_dic_base_dp.tmask.rename(\"DIC\")"
   ]
  },
  {
   "cell_type": "code",
   "execution_count": 131,
   "id": "6da8fd11-ad01-4d5a-a184-c68a08f90ac7",
   "metadata": {},
   "outputs": [],
   "source": [
    "regridded_dic_base_dp.to_netcdf('/Volumes/UnionSine/Cropped_DataTransfer/SSP1_2.6/DIC/dic_mld/regridded_dic_base_dp.nc')"
   ]
  },
  {
   "cell_type": "markdown",
   "id": "65c46cd3-c853-446b-8527-01ce529a5635",
   "metadata": {},
   "source": [
    "### DIC OAE"
   ]
  },
  {
   "cell_type": "code",
   "execution_count": 140,
   "id": "d2bfccbf-ada2-49bb-9052-fcd62d914f36",
   "metadata": {},
   "outputs": [],
   "source": [
    "dic_weighted_oae_dp = dic_weighted_oae.DIC.isel(x=slice(58,60),y=slice(41,43))"
   ]
  },
  {
   "cell_type": "code",
   "execution_count": 141,
   "id": "6f482b22-3fd6-4ccf-b7e6-d8d647feb250",
   "metadata": {},
   "outputs": [],
   "source": [
    "mld_oae_dp = mld_oae.somxl010.isel(x=slice(58,60),y=slice(41,43))"
   ]
  },
  {
   "cell_type": "code",
   "execution_count": 142,
   "id": "f9a4c49a-b7da-48a2-b4f2-4ea1ea98e199",
   "metadata": {},
   "outputs": [],
   "source": [
    "dic_weighted_oae_dp = dic_weighted_oae_dp.to_dataset(name='DIC')"
   ]
  },
  {
   "cell_type": "code",
   "execution_count": 143,
   "id": "f974a528-cb60-4912-81b6-08cca3e1cb26",
   "metadata": {},
   "outputs": [],
   "source": [
    "mld_oae_dp = mld_oae_dp.to_dataset(name='mld')"
   ]
  },
  {
   "cell_type": "code",
   "execution_count": 144,
   "id": "8f9e0ac2-2c02-4703-b499-b34300c9c543",
   "metadata": {},
   "outputs": [],
   "source": [
    "mld_dp = dic_weighted_oae_dp.deptht < mld_oae_dp.mld"
   ]
  },
  {
   "cell_type": "code",
   "execution_count": 145,
   "id": "5b7f6053-1d33-4031-bbd8-ce46d804745e",
   "metadata": {},
   "outputs": [],
   "source": [
    "mld_dp = mld_dp.to_dataset(name='mld') "
   ]
  },
  {
   "cell_type": "code",
   "execution_count": 146,
   "id": "c5c9606d-2026-40f5-a67e-c4ac1aae6a77",
   "metadata": {},
   "outputs": [],
   "source": [
    "dic_oae_dp = dic_weighted_oae_dp * mld_dp.mld"
   ]
  },
  {
   "cell_type": "code",
   "execution_count": 147,
   "id": "526dc4bb-1732-4236-bbef-27833d269120",
   "metadata": {},
   "outputs": [],
   "source": [
    "dic_oae_dp = dic_oae_dp.where(dic_oae_dp)"
   ]
  },
  {
   "cell_type": "code",
   "execution_count": 148,
   "id": "628102b8-c1d2-4147-a5a7-4b2790bebc55",
   "metadata": {},
   "outputs": [],
   "source": [
    "dic_oae_dp = dic_oae_dp.fillna(0)"
   ]
  },
  {
   "cell_type": "code",
   "execution_count": 149,
   "id": "d94b52c7-3266-486f-8fef-b3a53e590729",
   "metadata": {},
   "outputs": [],
   "source": [
    "dic_oae_dp = dic_oae_dp * 1.025 # mmol/m3"
   ]
  },
  {
   "cell_type": "code",
   "execution_count": 150,
   "id": "b290555b-08c1-4cf8-977f-01219ff839ca",
   "metadata": {},
   "outputs": [],
   "source": [
    "# iterate over all layers and append\n",
    "\n",
    "dic_oae_layers_dp = []\n",
    "\n",
    "for x in list((range(len(dic_oae_dp.deptht)))):\n",
    "    if x == 0:\n",
    "        dic_n_oae_dp = dic_oae_dp.DIC.isel(deptht=x) * dic_oae_dp.deptht[x] \n",
    "        dic_oae_layers_dp.append(dic_n_oae_dp)\n",
    "    else:\n",
    "        dic_n_oae_dp = dic_oae_dp.DIC.isel(deptht=x) * (dic_oae_dp.deptht[x] - dic_oae_dp.deptht[x-1])\n",
    "        dic_oae_layers_dp.append(dic_n_oae_dp)"
   ]
  },
  {
   "cell_type": "code",
   "execution_count": 151,
   "id": "e198d3b3-9ec5-4ca6-a651-0e098dc220a1",
   "metadata": {},
   "outputs": [],
   "source": [
    "weighted_oae_dic_dp = sum(dic_oae_layers_dp) / mld_oae_dp.mld # mmol/m3 * m / m"
   ]
  },
  {
   "cell_type": "code",
   "execution_count": 152,
   "id": "b226b66b-bb6d-435c-baa3-eb1d1c9d205e",
   "metadata": {},
   "outputs": [],
   "source": [
    "weighted_oae_dic_dp = weighted_oae_dic_dp.to_dataset(name='DIC')"
   ]
  },
  {
   "cell_type": "code",
   "execution_count": 153,
   "id": "c989f153-71f8-4455-b9ba-8a8d184a018b",
   "metadata": {},
   "outputs": [],
   "source": [
    "sliced_dic_oae_dp = ocean_area_sliced_dp * weighted_oae_dic_dp.DIC # baseline"
   ]
  },
  {
   "cell_type": "code",
   "execution_count": 154,
   "id": "99d3bffa-097e-463d-90ff-f5f010946883",
   "metadata": {},
   "outputs": [],
   "source": [
    "regridded_dic_oae_dp = sliced_dic_oae_dp.sum(['x', 'y']) / ocean_area_sliced_dp.sum(['x', 'y'])"
   ]
  },
  {
   "cell_type": "code",
   "execution_count": 155,
   "id": "28fa69bd-0a48-46ec-8875-d7294dc191d4",
   "metadata": {},
   "outputs": [],
   "source": [
    "regridded_dic_oae_dp = regridded_dic_oae_dp.tmask.rename(\"DIC\")"
   ]
  },
  {
   "cell_type": "code",
   "execution_count": 156,
   "id": "4de75f26-b069-4cef-b924-4ef37707363c",
   "metadata": {},
   "outputs": [],
   "source": [
    "regridded_dic_oae_dp.to_netcdf('/Volumes/UnionSine/Cropped_DataTransfer/SSP1_2.6/DIC/dic_mld/regridded_dic_oae_dp.nc')"
   ]
  },
  {
   "cell_type": "code",
   "execution_count": null,
   "id": "65256c59-1303-4187-8088-e025ba17dec0",
   "metadata": {},
   "outputs": [],
   "source": []
  },
  {
   "cell_type": "code",
   "execution_count": null,
   "id": "81b3e308-4a55-4d4a-8c1c-3488244e6eb5",
   "metadata": {},
   "outputs": [],
   "source": []
  }
 ],
 "metadata": {
  "kernelspec": {
   "display_name": "geomar",
   "language": "python",
   "name": "geomar"
  },
  "language_info": {
   "codemirror_mode": {
    "name": "ipython",
    "version": 3
   },
   "file_extension": ".py",
   "mimetype": "text/x-python",
   "name": "python",
   "nbconvert_exporter": "python",
   "pygments_lexer": "ipython3",
   "version": "3.7.12"
  }
 },
 "nbformat": 4,
 "nbformat_minor": 5
}
